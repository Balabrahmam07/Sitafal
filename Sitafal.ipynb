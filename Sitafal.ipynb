{
 "cells": [
  {
   "cell_type": "code",
   "execution_count": 3,
   "id": "439b4228",
   "metadata": {},
   "outputs": [
    {
     "name": "stdout",
     "output_type": "stream",
     "text": [
      "Requirement already satisfied: PyPDF2 in c:\\users\\balab\\anaconda3\\lib\\site-packages (3.0.1)\n",
      "Requirement already satisfied: typing_extensions>=3.10.0.0 in c:\\users\\balab\\anaconda3\\lib\\site-packages (from PyPDF2) (4.12.2)\n",
      "Note: you may need to restart the kernel to use updated packages.\n"
     ]
    }
   ],
   "source": [
    "pip install PyPDF2"
   ]
  },
  {
   "cell_type": "code",
   "execution_count": 4,
   "id": "fd8c69a1",
   "metadata": {},
   "outputs": [
    {
     "name": "stdout",
     "output_type": "stream",
     "text": [
      "Tables, Charts, and \n",
      "Graphs \n",
      "with Examples from History, Economics, \n",
      "Education, Psychology, Urban Affairs and Everyday Life\n",
      "REVISED: MICHAEL LOLKUS 2018Tables, Charts, and \n",
      "Graphs BasicsWe use charts and graphs to visualize data.  \n",
      "This data can either be generated data, data gathered from \n",
      "an experiment, or data collected from some source.\n",
      "A picture tells a thousand words so it is not a surprise that many people use charts and graphs when explaining data.Types of Visual \n",
      "Representations of DataTable \n"
     ]
    }
   ],
   "source": [
    "from PyPDF2 import PdfReader\n",
    "\n",
    "def extract_text_from_pdf(pdf_path):\n",
    "    reader = PdfReader(pdf_path)\n",
    "    text = \"\"\n",
    "    for page in reader.pages:\n",
    "        text += page.extract_text()\n",
    "    return text\n",
    "\n",
    "pdf_path = \"exampledata.pdf\"\n",
    "text = extract_text_from_pdf(pdf_path)\n",
    "print(text[:509])  # Print the first 509 characters to verify the extraction\n"
   ]
  },
  {
   "cell_type": "code",
   "execution_count": 6,
   "id": "bab9a989",
   "metadata": {},
   "outputs": [
    {
     "name": "stdout",
     "output_type": "stream",
     "text": [
      "['Tables, Charts, and \\nGraphs \\nwith Examples from History, Economics, \\nEducation, Psychology, Urban Affairs and Everyday Life\\nREVISED: MICHAEL LOLKUS 2018Tables, Charts, and \\nGraphs Basics\\uf075We use charts and graphs to visualize data. \\uf075This data can either be generated data, data gathered from \\nan experiment, or data collected from some source.', '\\uf075A picture tells a thousand words so it is not a surprise that many people use charts and graphs when explaining data.Types of Visual \\nRepresentations of DataTable of Yearly U.S. GDP by \\nIndustry (in millions of dollars)\\nYear 2010 2011 2012 2013 2014 2015\\nAll Industries 26093515 27535971 28663246 29601191 30895407 31397023\\nManufacturing 4992521 5581942 5841608 5953299 6047477 5829554\\nFinance,\\nInsurance, Real \\nEstate, Rental, \\nLeasing4522451 4618678 4797313 5031881 5339678 5597018\\nArts, \\nEntertainment, \\nRecreation, \\nAccommodation,\\nand Food Service964032 1015238 1076249 1120496 1189646 1283813\\nOther 15614511 16320113 16948076 17495515 18318606 18686638Source: U.S. Bureau of Labor Statistics19%\\n18%\\n4%59%2015 U.S. GDP (in millions of dollars)\\nManufacturing\\nFinance, insurance, real\\nestate, rental, and\\nleasing\\nArts, entertainment,recreation,\\naccommodation, and\\nfood services\\nOther•The chart below is called a pie chart.', 'It shows what \\npercent “of the pie” a particular category occupies \\nout of the whole. •If total GDP in 2015 is the entire pie, then \\nmanufacturing makes up 19% of that pie and finance makes up 18%. Notice that visually speaking, since 19% and 18% are so close to each other in value, their respective slices of the pie are similarly sized.\\uf075Pie charts can be misleading when the slices do not \\ncorrespond with the percent contribution to the whole pie.']\n"
     ]
    },
    {
     "name": "stderr",
     "output_type": "stream",
     "text": [
      "[nltk_data] Downloading package punkt to\n",
      "[nltk_data]     C:\\Users\\balab\\AppData\\Roaming\\nltk_data...\n",
      "[nltk_data]   Package punkt is already up-to-date!\n"
     ]
    }
   ],
   "source": [
    "import nltk\n",
    "nltk.download('punkt')\n",
    "from nltk.tokenize import sent_tokenize\n",
    "\n",
    "def chunk_text(text, chunk_size=500):\n",
    "    sentences = sent_tokenize(text)  # Split text into sentences\n",
    "    chunks = []\n",
    "    current_chunk = \"\"\n",
    "    \n",
    "    for sentence in sentences:\n",
    "        if len(current_chunk) + len(sentence) <= chunk_size:\n",
    "            current_chunk += sentence + \" \"\n",
    "        else:\n",
    "            chunks.append(current_chunk.strip())\n",
    "            current_chunk = sentence + \" \"\n",
    "    \n",
    "    if current_chunk:  # Add any remaining text\n",
    "        chunks.append(current_chunk.strip())\n",
    "    \n",
    "    return chunks\n",
    "\n",
    "chunks = chunk_text(text)\n",
    "print(chunks[:3])  # Print the first 3 chunks to verify\n"
   ]
  },
  {
   "cell_type": "code",
   "execution_count": 7,
   "id": "fb88d9f2",
   "metadata": {},
   "outputs": [
    {
     "data": {
      "application/vnd.jupyter.widget-view+json": {
       "model_id": "b666c78dfc694f06b7e7bf1742a246f3",
       "version_major": 2,
       "version_minor": 0
      },
      "text/plain": [
       "modules.json:   0%|          | 0.00/349 [00:00<?, ?B/s]"
      ]
     },
     "metadata": {},
     "output_type": "display_data"
    },
    {
     "name": "stderr",
     "output_type": "stream",
     "text": [
      "C:\\Users\\balab\\anaconda3\\lib\\site-packages\\huggingface_hub\\file_download.py:139: UserWarning: `huggingface_hub` cache-system uses symlinks by default to efficiently store duplicated files but your machine does not support them in C:\\Users\\balab\\.cache\\huggingface\\hub\\models--sentence-transformers--all-MiniLM-L6-v2. Caching files will still work but in a degraded version that might require more space on your disk. This warning can be disabled by setting the `HF_HUB_DISABLE_SYMLINKS_WARNING` environment variable. For more details, see https://huggingface.co/docs/huggingface_hub/how-to-cache#limitations.\n",
      "To support symlinks on Windows, you either need to activate Developer Mode or to run Python as an administrator. In order to activate developer mode, see this article: https://docs.microsoft.com/en-us/windows/apps/get-started/enable-your-device-for-development\n",
      "  warnings.warn(message)\n"
     ]
    },
    {
     "data": {
      "application/vnd.jupyter.widget-view+json": {
       "model_id": "aa317584f11248f49138553e5614ac2c",
       "version_major": 2,
       "version_minor": 0
      },
      "text/plain": [
       "config_sentence_transformers.json:   0%|          | 0.00/116 [00:00<?, ?B/s]"
      ]
     },
     "metadata": {},
     "output_type": "display_data"
    },
    {
     "data": {
      "application/vnd.jupyter.widget-view+json": {
       "model_id": "c669702de6bd4d879d01038f20922e6c",
       "version_major": 2,
       "version_minor": 0
      },
      "text/plain": [
       "README.md:   0%|          | 0.00/10.7k [00:00<?, ?B/s]"
      ]
     },
     "metadata": {},
     "output_type": "display_data"
    },
    {
     "data": {
      "application/vnd.jupyter.widget-view+json": {
       "model_id": "d1f906138e3f48ec8726ba0eda7613a2",
       "version_major": 2,
       "version_minor": 0
      },
      "text/plain": [
       "sentence_bert_config.json:   0%|          | 0.00/53.0 [00:00<?, ?B/s]"
      ]
     },
     "metadata": {},
     "output_type": "display_data"
    },
    {
     "data": {
      "application/vnd.jupyter.widget-view+json": {
       "model_id": "6bad31596b1c4c03aceaf194ac75e276",
       "version_major": 2,
       "version_minor": 0
      },
      "text/plain": [
       "config.json:   0%|          | 0.00/612 [00:00<?, ?B/s]"
      ]
     },
     "metadata": {},
     "output_type": "display_data"
    },
    {
     "data": {
      "application/vnd.jupyter.widget-view+json": {
       "model_id": "2929ac8fddc1423a95e3869a2edc0fc5",
       "version_major": 2,
       "version_minor": 0
      },
      "text/plain": [
       "model.safetensors:   0%|          | 0.00/90.9M [00:00<?, ?B/s]"
      ]
     },
     "metadata": {},
     "output_type": "display_data"
    },
    {
     "data": {
      "application/vnd.jupyter.widget-view+json": {
       "model_id": "b715af00663e4157a78157d3c9d182db",
       "version_major": 2,
       "version_minor": 0
      },
      "text/plain": [
       "tokenizer_config.json:   0%|          | 0.00/350 [00:00<?, ?B/s]"
      ]
     },
     "metadata": {},
     "output_type": "display_data"
    },
    {
     "data": {
      "application/vnd.jupyter.widget-view+json": {
       "model_id": "81a653f0a0074d4dbb440f93d24682e5",
       "version_major": 2,
       "version_minor": 0
      },
      "text/plain": [
       "vocab.txt:   0%|          | 0.00/232k [00:00<?, ?B/s]"
      ]
     },
     "metadata": {},
     "output_type": "display_data"
    },
    {
     "data": {
      "application/vnd.jupyter.widget-view+json": {
       "model_id": "c9f737f3f0c04aeaa4f6293dd9ae676d",
       "version_major": 2,
       "version_minor": 0
      },
      "text/plain": [
       "tokenizer.json:   0%|          | 0.00/466k [00:00<?, ?B/s]"
      ]
     },
     "metadata": {},
     "output_type": "display_data"
    },
    {
     "data": {
      "application/vnd.jupyter.widget-view+json": {
       "model_id": "fd0e69ded7de4e379a3907429b3e42b8",
       "version_major": 2,
       "version_minor": 0
      },
      "text/plain": [
       "special_tokens_map.json:   0%|          | 0.00/112 [00:00<?, ?B/s]"
      ]
     },
     "metadata": {},
     "output_type": "display_data"
    },
    {
     "data": {
      "application/vnd.jupyter.widget-view+json": {
       "model_id": "571c97c7b45440849e0c4eddfb649cbb",
       "version_major": 2,
       "version_minor": 0
      },
      "text/plain": [
       "1_Pooling/config.json:   0%|          | 0.00/190 [00:00<?, ?B/s]"
      ]
     },
     "metadata": {},
     "output_type": "display_data"
    },
    {
     "name": "stdout",
     "output_type": "stream",
     "text": [
      "[[ 1.09090082e-01 -3.57363299e-02 -5.84618840e-03  1.26271211e-02\n",
      "   1.65556446e-02 -9.78826452e-03 -5.71531281e-02  2.37490777e-02\n",
      "  -2.90202890e-02  6.99474588e-02  4.94444333e-02 -1.04393857e-02\n",
      "   2.51040980e-02  4.32048813e-02 -9.74213425e-03  4.79648113e-02\n",
      "  -3.23117115e-02  2.75868736e-02  3.08470000e-02 -6.24633171e-02\n",
      "   4.02988587e-03 -4.68991995e-02  1.17637683e-03  7.00145634e-03\n",
      "   6.29825667e-02  3.05623412e-02  6.60849409e-03  1.17838662e-02\n",
      "   1.33655872e-03 -3.30886506e-02 -7.43403882e-02 -7.48363370e-03\n",
      "   5.18418215e-02  4.02341858e-02 -6.76845685e-02 -3.44038270e-02\n",
      "   8.26872662e-02  9.43217129e-02  1.11612743e-02  5.77093437e-02\n",
      "  -3.36704520e-03  1.51357381e-04  4.00490053e-02  1.50576066e-02\n",
      "  -1.62071884e-02 -7.85877835e-03 -1.49055690e-01 -6.08523600e-02\n",
      "  -7.27416947e-02  8.52218419e-02 -1.18809447e-01  2.87768338e-02\n",
      "   1.58967450e-02 -8.12152699e-02  9.36467275e-02  1.06713930e-02\n",
      "  -2.91929841e-02 -3.05764414e-02  5.07666394e-02 -2.09736060e-02\n",
      "  -2.42220145e-02  9.86818504e-03  6.31801877e-03  5.01489453e-02\n",
      "   1.61999445e-02  4.54413667e-02 -2.63431389e-02  1.06731936e-01\n",
      "  -1.16461106e-02  3.20934579e-02 -1.32192494e-02 -6.38858899e-02\n",
      "  -5.72821386e-02 -3.82219143e-02  1.15969144e-02 -3.21758762e-02\n",
      "  -2.50716209e-02  6.02385076e-03 -2.58155409e-02 -1.02806956e-01\n",
      "  -3.60898450e-02  2.29773279e-02 -2.17300728e-02  5.61729558e-02\n",
      "  -7.84106031e-02 -8.60815961e-03 -2.74819396e-02 -1.56257525e-02\n",
      "   2.45664222e-03 -7.40907863e-02 -3.40219960e-02  3.81521396e-02\n",
      "  -8.34053010e-03 -2.27402821e-02  3.19376141e-02  7.14619532e-02\n",
      "   1.24238227e-02 -6.74030483e-02  5.09119891e-02  3.04068346e-02\n",
      "   2.48321462e-02 -5.23350649e-02  3.04003395e-02  7.43479133e-02\n",
      "  -6.26839548e-02 -9.08240303e-02 -2.51993500e-02 -9.01737367e-04\n",
      "  -5.47422618e-02  6.64351182e-03 -1.55934524e-02  3.99787119e-03\n",
      "  -7.16775879e-02 -2.10799258e-02  3.08503825e-02 -8.65675658e-02\n",
      "  -9.29381773e-02 -6.96717948e-02 -4.15172474e-03  5.07485121e-02\n",
      "   9.25863255e-03  4.77433614e-02 -4.85161971e-03  9.29731317e-03\n",
      "  -6.96405396e-02  7.53326621e-03  3.93108139e-03 -1.63399454e-34\n",
      "   9.63542704e-03 -6.61097914e-02  5.23751155e-02  2.13440452e-02\n",
      "   5.07431626e-02 -2.49587670e-02 -5.20631298e-02  3.81915458e-03\n",
      "   5.49865104e-02  5.95879331e-02  2.88129207e-02  1.04330681e-01\n",
      "   2.08396073e-02  1.23818889e-01  1.36307273e-02  6.19379692e-02\n",
      "   6.17280118e-02  2.21126825e-02 -3.10329981e-02 -2.08795685e-02\n",
      "  -6.57153353e-02  3.79239097e-02  9.46004391e-02  1.08085098e-02\n",
      "   6.54729903e-02  8.91841203e-02 -2.97089946e-03  4.01166864e-02\n",
      "   6.69745579e-02 -5.82338916e-03  6.62818477e-02  3.22497226e-02\n",
      "  -7.37740993e-02 -7.30830580e-02 -1.33562610e-02 -9.11978912e-03\n",
      "  -5.86073324e-02  1.29967593e-02 -2.80518993e-03 -4.46511694e-04\n",
      "  -5.70859239e-02 -2.21503433e-02 -4.97380532e-02  2.64224876e-02\n",
      "  -1.50697790e-02  3.22863311e-02  2.30721384e-02 -3.09814569e-02\n",
      "   7.41543546e-02 -4.18529101e-02 -7.27698058e-02 -2.99519040e-02\n",
      "  -7.43921995e-02 -4.29224297e-02 -6.65438222e-03  7.79745951e-02\n",
      "  -6.30620925e-05  1.60847623e-02 -2.95939390e-02  2.54185908e-02\n",
      "  -8.19590781e-03  1.39560625e-02  6.52206615e-02 -7.04864785e-02\n",
      "  -5.88968955e-02  2.81209406e-02 -1.27362505e-01 -9.13368817e-03\n",
      "   2.60836501e-02  1.66421439e-02 -5.89188039e-02  5.86924143e-02\n",
      "  -2.13650633e-02 -8.75008106e-03  3.53553891e-02  3.51219438e-02\n",
      "  -2.29471587e-02 -6.74479678e-02 -4.88866977e-02 -8.96812975e-03\n",
      "   3.28220502e-02 -1.34316370e-01  1.20467152e-02 -6.26412630e-02\n",
      "  -2.23479280e-03 -6.34405389e-02  2.05880515e-02 -1.46691706e-02\n",
      "   1.08556580e-02 -1.51231075e-02 -8.09852853e-02 -3.64650004e-02\n",
      "  -3.83846909e-02  1.41132521e-02 -1.10316565e-02 -3.64066837e-33\n",
      "  -6.71137944e-02  1.38936862e-01 -1.09366989e-02  3.77395786e-02\n",
      "   5.91157228e-02  4.65685911e-02 -3.73233221e-02 -2.09692474e-02\n",
      "   2.72854492e-02  1.35119930e-02 -5.05844355e-02 -7.99198002e-02\n",
      "   1.29574724e-03  1.19325696e-02 -3.00886799e-02  1.23276487e-02\n",
      "  -1.50666572e-03 -7.11313710e-02 -1.51760250e-01 -1.81147661e-02\n",
      "  -3.48962620e-02  2.52396949e-02 -9.11450610e-02 -2.85957102e-02\n",
      "   3.90308052e-02  3.86943594e-02 -7.03699887e-02 -7.72962049e-02\n",
      "  -2.69743074e-02  7.24381655e-02 -8.89036134e-02 -4.95974235e-02\n",
      "   4.28013243e-02 -4.39551957e-02 -2.51884498e-02  4.01412435e-02\n",
      "   1.37334034e-01 -6.54058382e-02 -3.13420855e-02 -2.43142005e-02\n",
      "  -3.53614315e-02 -2.40875110e-02  6.38825968e-02 -1.08629267e-03\n",
      "  -3.05513339e-03  6.33935854e-02 -7.37601817e-02  2.56101545e-02\n",
      "  -4.44494635e-02 -1.29042286e-03  5.75775690e-02  5.03339618e-02\n",
      "   2.17442326e-02 -7.45906606e-02  4.05291580e-02 -8.91041681e-02\n",
      "   2.04489045e-02  2.75204424e-02 -3.67883071e-02  2.64437459e-02\n",
      "  -7.45642856e-02  1.00941705e-02 -4.14624587e-02  6.17259443e-02\n",
      "  -5.46017066e-02 -7.21184686e-02 -4.08517681e-02 -9.92534235e-02\n",
      "  -6.39938787e-02  6.99367188e-03  5.24101919e-03  1.34464784e-03\n",
      "  -5.34865558e-02 -2.37555373e-02  4.63869460e-02  3.76074016e-02\n",
      "  -4.63077426e-02  7.36960024e-02 -2.12548878e-02  3.93514782e-02\n",
      "   7.76308626e-02 -2.84821186e-02  3.78052294e-02  6.13206811e-02\n",
      "   4.27635349e-02  3.57487425e-02  2.27706283e-02 -1.53206801e-02\n",
      "   3.30224596e-02  4.92636971e-02 -5.41576892e-02 -4.85233776e-02\n",
      "  -1.35350212e-01  1.10716738e-01  1.62169468e-02 -3.47760754e-08\n",
      "  -3.75019051e-02 -4.40437943e-02  6.06579445e-02  2.65465342e-02\n",
      "   1.74237806e-02  2.83134449e-02  1.43139213e-01  8.32344070e-02\n",
      "  -6.20695502e-02  8.92216712e-02  3.73131931e-02  7.94374868e-02\n",
      "  -4.48917858e-02 -9.31624882e-03  4.71810363e-02 -8.48665927e-03\n",
      "   7.93935359e-02 -4.16551568e-02  5.50811179e-02  2.76144538e-02\n",
      "   3.68195237e-04 -5.46694646e-05 -6.87185973e-02  4.88990285e-02\n",
      "   5.87894097e-02 -2.96748225e-02 -7.37178549e-02  5.61486408e-02\n",
      "  -7.14589283e-02  2.02281307e-02  1.96640659e-02 -6.14190986e-03\n",
      "   4.63150144e-02 -4.92334105e-02  7.54284859e-02 -4.39041331e-02\n",
      "  -1.80985294e-02  7.82707520e-03 -2.74422411e-02 -4.87498986e-03\n",
      "  -5.10399789e-02  6.78513274e-02 -4.70548496e-02 -9.04050097e-03\n",
      "   6.05442785e-02  1.00909367e-01 -2.35569123e-02  2.39784103e-02\n",
      "   1.43847177e-02  2.31888834e-02 -8.44801217e-02 -1.23715810e-01\n",
      "   3.65072042e-02 -3.32264192e-02  3.04225292e-02  4.31361469e-03\n",
      "   3.20282616e-02  6.57844683e-03  4.51165959e-02 -3.12126838e-02\n",
      "   5.18728234e-02  5.39225414e-02 -3.47532406e-02 -1.55049227e-02]\n",
      " [ 9.58667994e-02 -6.47622570e-02 -1.64816156e-02  4.90671769e-02\n",
      "   9.57494881e-03  4.63264138e-02 -7.75676919e-03 -3.14398073e-02\n",
      "   6.83872923e-02  8.33046716e-03  5.07909320e-02 -1.39938493e-03\n",
      "   5.41871265e-02  4.33729626e-02  1.41909877e-02 -2.33292021e-02\n",
      "   6.25808388e-02 -1.01191290e-01  2.09459458e-02 -4.66839038e-02\n",
      "   4.32162732e-02 -3.36219482e-02 -1.39658256e-02 -4.83810790e-02\n",
      "   5.90468720e-02  3.25272977e-02 -1.61003377e-02  2.48048026e-02\n",
      "  -4.02396284e-02 -2.47071125e-02 -5.20535298e-02  8.93916115e-02\n",
      "   6.43961430e-02  4.42025848e-02  9.72374715e-03  1.74020734e-02\n",
      "   2.65958924e-02  4.66647036e-02  5.14951088e-02  1.53740747e-02\n",
      "  -1.31902443e-02 -4.86097299e-03  9.42717120e-02 -2.33664177e-03\n",
      "   1.58379131e-04  1.53037626e-02 -1.20757237e-01 -1.80015098e-02\n",
      "   1.54097169e-03  9.15444344e-02 -3.38686630e-02  8.52741823e-02\n",
      "  -8.49197328e-04  1.89890657e-02  6.75565153e-02 -4.02012542e-02\n",
      "  -2.13302821e-02 -9.79513824e-02 -2.65372032e-03  4.68922928e-02\n",
      "  -2.77900118e-02  5.41019347e-03  5.15594147e-02 -3.09115313e-02\n",
      "   1.53450230e-02  3.24737243e-02 -5.23236096e-02 -5.42045338e-04\n",
      "  -1.09743059e-01 -8.42877853e-05  1.73487924e-02 -7.10133910e-02\n",
      "  -6.02697171e-02 -3.85564193e-02  3.99140408e-03 -2.14860458e-02\n",
      "  -7.52534391e-03 -1.71574093e-02  8.78828857e-03 -1.56481415e-01\n",
      "   3.94432358e-02  9.17063653e-03 -3.94903086e-02  5.62262982e-02\n",
      "  -5.32806665e-02 -3.57397529e-03  4.64431429e-03 -4.37296815e-02\n",
      "   4.06384356e-02 -9.15679336e-03 -7.47130811e-02  2.00979901e-03\n",
      "  -8.39378964e-03  5.27025089e-02  3.55761796e-02  5.69266193e-02\n",
      "  -5.28845079e-02 -2.35210229e-02  5.21906987e-02  4.02395353e-02\n",
      "   1.49563551e-02 -4.03140439e-03  2.12838668e-02 -4.10831496e-02\n",
      "  -7.12642968e-02 -7.11565167e-02  2.26546247e-02  5.03560826e-02\n",
      "  -3.77594046e-02 -2.01266147e-02  1.95791647e-02  3.40402313e-02\n",
      "  -7.85990059e-02  3.55341472e-02  2.50051841e-02 -6.09292500e-02\n",
      "  -8.55763406e-02 -7.59495199e-02  1.61900814e-03  8.05317014e-02\n",
      "   3.69122252e-02  1.24225020e-01 -5.72723672e-02  6.70699030e-02\n",
      "  -4.76997271e-02 -4.26544137e-02 -5.68280555e-02  1.79205142e-33\n",
      "   1.12730544e-03  5.01909899e-03  4.58574332e-02 -7.58326054e-03\n",
      "   1.55250691e-02  9.55684017e-03 -1.23179376e-01  1.90112796e-02\n",
      "   6.45535365e-02  1.37252808e-01 -6.56586215e-02  5.27819768e-02\n",
      "   4.67121834e-03  8.33648294e-02  4.73008119e-02  7.59852454e-02\n",
      "   1.33535080e-02  3.77693065e-02 -1.02624014e-01 -4.95163687e-02\n",
      "  -4.88828458e-02  3.15026380e-02  8.98505300e-02  2.95406282e-02\n",
      "   2.82266159e-02  3.81476879e-02 -6.98715225e-02  3.13961655e-02\n",
      "   2.15013810e-02 -5.51485969e-03  1.38217118e-02  3.98507714e-02\n",
      "   3.25620994e-02 -6.00605831e-02 -2.20420435e-02 -8.90455022e-02\n",
      "   2.26323772e-03 -2.62219030e-02 -2.26762332e-02  4.52703722e-02\n",
      "  -8.27076733e-02 -8.12081527e-03 -3.31918672e-02  1.10148154e-02\n",
      "  -2.35754587e-02  1.06666155e-01  8.83220434e-02 -4.14334461e-02\n",
      "  -3.52046527e-02  1.16492445e-02 -4.20208983e-02  1.01349608e-03\n",
      "  -1.09298695e-02 -2.31252033e-02 -6.66084467e-03 -1.00918682e-02\n",
      "   2.67840382e-02 -5.43782115e-02  3.07377754e-03 -2.88052112e-02\n",
      "  -4.23560329e-02  3.18724550e-02  3.29163522e-02 -2.06913799e-03\n",
      "  -1.92403495e-02  9.87262428e-02  4.73742653e-03  7.84278587e-02\n",
      "   1.59606002e-02  2.14005671e-02 -6.67935377e-03  6.30719811e-02\n",
      "  -3.35935690e-02 -3.24838497e-02  6.28308728e-02  4.46662344e-02\n",
      "   1.11851962e-02 -6.60124118e-04 -6.46601571e-03  6.94365427e-02\n",
      "  -1.98873552e-03 -6.46684766e-02  3.94046791e-02 -1.03857666e-01\n",
      "  -3.18962410e-02 -1.13658784e-02  6.59869611e-02 -2.93456148e-02\n",
      "   6.51619285e-02 -3.08876764e-02 -1.02822103e-01 -1.29343076e-02\n",
      "  -6.03644587e-02 -9.16634314e-03 -5.21064550e-02 -7.15797302e-33\n",
      "  -1.07361235e-01  9.45088118e-02  2.42968276e-02 -4.10127491e-02\n",
      "  -2.00573076e-02 -1.79507639e-02  2.24838220e-02  2.69423667e-02\n",
      "   1.88827366e-02  4.23836932e-02 -1.12406304e-02 -8.54206234e-02\n",
      "  -2.88000740e-02 -2.36879047e-02  6.01038628e-04 -9.70569625e-03\n",
      "  -7.05991918e-03  1.01971561e-02 -1.23437420e-01 -3.62350084e-02\n",
      "  -4.38900292e-02  7.41595924e-02 -2.68685147e-02  4.98559065e-02\n",
      "   3.14725116e-02  1.03735372e-01 -8.57593417e-02 -8.61983672e-02\n",
      "  -1.93092544e-02  5.33806309e-02 -5.02201654e-02 -9.16123912e-02\n",
      "  -7.34344823e-03 -5.43331988e-02 -2.34479290e-02  1.81902535e-02\n",
      "   7.87532553e-02 -4.15262431e-02 -8.09795633e-02 -4.39239889e-02\n",
      "   8.97673611e-03 -3.45358439e-02 -7.69308358e-02  4.93574627e-02\n",
      "  -4.08515036e-02  1.65979788e-02 -1.99406147e-02 -6.15186952e-02\n",
      "   1.48268556e-02 -2.16906727e-03  3.35818790e-02  7.26288110e-02\n",
      "  -6.30686209e-02 -2.77899262e-02 -2.58698221e-02 -2.04707496e-02\n",
      "   1.67382210e-02  3.26009095e-02 -6.71628192e-02 -4.50876392e-02\n",
      "   1.17165614e-02  7.93004874e-03 -3.23521569e-02  3.46610025e-02\n",
      "  -2.97623742e-02 -1.03037797e-01  2.32099500e-02 -9.96125937e-02\n",
      "   1.18488707e-02  2.99253763e-04  1.35634104e-02 -2.13813391e-02\n",
      "  -1.26242071e-01 -5.10952957e-02 -1.25603955e-02  7.38418698e-02\n",
      "   4.47783358e-02  1.34341903e-02 -8.88436474e-03  4.63303812e-02\n",
      "   4.88666035e-02 -8.97105113e-02  9.01958793e-02  3.25389318e-02\n",
      "  -1.25362957e-02  4.69483249e-03 -3.06446198e-02 -2.54224595e-02\n",
      "  -4.67799716e-02  6.74649626e-02 -9.57480818e-02 -3.07810027e-02\n",
      "  -1.48989171e-01  2.07667891e-02  6.25548325e-03 -6.02182908e-08\n",
      "  -5.95585965e-02  3.77245359e-02  7.11908005e-03 -7.07144886e-02\n",
      "   8.40237364e-02 -7.53745139e-02  2.20316667e-02  1.16295904e-01\n",
      "   1.15494318e-02  5.70033789e-02  8.57541338e-02 -3.42626348e-02\n",
      "  -8.79714638e-02 -6.26387745e-02 -4.33894843e-02  8.48384202e-03\n",
      "  -3.02353390e-02 -1.84047651e-02  2.21352987e-02 -1.56573225e-02\n",
      "  -9.28023923e-03  5.85057996e-02 -3.97324227e-02 -7.79470503e-02\n",
      "  -2.85652354e-02 -6.65694177e-02 -1.18268631e-01  6.64460808e-02\n",
      "  -6.26823977e-02  3.22519094e-02  3.47569585e-02 -3.74213159e-02\n",
      "   5.02836471e-03 -6.09418154e-02 -7.59387622e-03 -8.23031664e-02\n",
      "  -1.32446028e-02 -1.47770597e-02  6.00113394e-03 -1.03381369e-02\n",
      "  -3.89349870e-02  1.16674248e-02 -5.66300154e-02  6.45006001e-02\n",
      "   6.89807981e-02  8.17955006e-03 -4.14662715e-03  7.73719978e-04\n",
      "   5.39383627e-02 -2.54110135e-02 -8.21161717e-02 -7.55988732e-02\n",
      "   4.00353130e-03 -6.58676773e-03  7.45284781e-02 -6.70204610e-02\n",
      "   5.80795249e-03 -1.31500850e-03 -4.26736362e-02  6.93170296e-04\n",
      "   3.66340503e-02 -7.50338435e-02 -1.57228597e-02 -5.58867790e-02]]\n"
     ]
    }
   ],
   "source": [
    "from sentence_transformers import SentenceTransformer\n",
    "\n",
    "def embed_chunks(chunks):\n",
    "    model = SentenceTransformer('all-MiniLM-L6-v2')\n",
    "    embeddings = model.encode(chunks)\n",
    "    return embeddings\n",
    "\n",
    "embeddings = embed_chunks(chunks)\n",
    "print(embeddings[:2])  # Print the embeddings for the first two chunks\n"
   ]
  },
  {
   "cell_type": "code",
   "execution_count": 8,
   "id": "a1e427ad",
   "metadata": {},
   "outputs": [
    {
     "name": "stdout",
     "output_type": "stream",
     "text": [
      "[ 2.62755007e-02  5.16561829e-02  1.17283836e-02  7.97700360e-02\n",
      "  3.39334336e-04  3.21855433e-02 -9.49128717e-02 -1.75721124e-02\n",
      " -1.85327586e-02  3.29858735e-02  1.34108197e-02  5.59555646e-03\n",
      " -1.00391486e-03 -2.93906219e-02  1.89422928e-02  3.99171673e-02\n",
      " -1.05686346e-03  1.03936661e-02  4.22967523e-02 -8.22684690e-02\n",
      " -2.02256115e-03  1.41051561e-02 -8.89514852e-03 -1.34665802e-01\n",
      "  1.36142448e-01 -3.15173231e-02  2.80929003e-02  4.14613374e-02\n",
      " -2.64695697e-02  5.61320409e-02  1.12451809e-02  1.39451893e-02\n",
      "  5.19307107e-02  2.21825857e-02 -4.04586792e-02 -7.70585760e-02\n",
      " -3.36563289e-02  5.79428151e-02 -3.11386194e-02  6.75555244e-02\n",
      " -4.50937590e-03 -2.68763471e-02  4.37736325e-02  2.34622322e-02\n",
      " -3.17917354e-02  4.27443981e-02 -6.77369954e-03  5.78837320e-02\n",
      " -5.15488498e-02  3.79756577e-02  2.30866186e-02 -3.76372552e-03\n",
      "  5.34184277e-02  1.65695734e-02 -3.36537771e-02  1.34632532e-02\n",
      "  1.72119886e-02  1.73110198e-02 -6.71240240e-02  6.78523779e-02\n",
      " -1.68683119e-02  2.20401864e-02 -2.89390758e-02  6.43398846e-04\n",
      "  6.84059784e-02 -6.69372529e-02  2.37081386e-03 -4.81669866e-02\n",
      " -5.58092520e-02  5.53992158e-03  2.93271262e-02 -8.09678808e-02\n",
      " -7.04057738e-02 -4.70322706e-02  3.80216576e-02 -8.06338936e-02\n",
      "  2.52928622e-02  6.32461831e-02  7.49313012e-02 -5.55894487e-02\n",
      "  2.28084065e-02 -7.08193481e-02 -7.08686635e-02 -1.04316149e-03\n",
      "  1.35381483e-02 -8.18743259e-02  8.28151256e-02  3.71049643e-02\n",
      "  3.17515954e-02 -1.00659924e-02  6.12907298e-02 -2.25837622e-02\n",
      " -3.85072790e-02 -1.94418039e-02  3.23937610e-02  1.75055061e-02\n",
      " -6.20913841e-02  7.56624788e-02  1.43868318e-02 -9.23766661e-03\n",
      " -8.45913291e-02 -2.90849451e-02 -5.76704517e-02  6.41767010e-02\n",
      " -4.04793136e-02  1.81052601e-04  1.79138407e-02  6.34544566e-02\n",
      "  3.06814574e-02 -2.41775364e-02 -2.70343199e-02 -4.27381732e-02\n",
      "  8.91600328e-04 -1.58469006e-02  7.45422021e-03 -3.41311619e-02\n",
      "  3.70618589e-02  1.70924235e-03  4.55232486e-02  1.00372784e-01\n",
      "  8.99450108e-02  6.79950491e-02 -7.38162249e-02  1.08856317e-02\n",
      " -9.38337594e-02 -6.64239749e-02 -7.03398958e-02 -5.14486143e-33\n",
      "  8.76782909e-02  3.97836342e-02  4.58753705e-02 -3.56672183e-02\n",
      " -1.73076689e-02 -6.67983592e-02 -2.86840629e-02  6.20888285e-02\n",
      "  8.65464732e-02  7.78403878e-02 -1.18881091e-01  3.59164625e-02\n",
      "  1.22143747e-02  6.74270615e-02  1.12384915e-01 -1.81533769e-02\n",
      " -2.73575764e-02  6.94028586e-02 -8.31350870e-03  9.60782915e-02\n",
      " -2.08463743e-02 -5.02621196e-03 -5.94302155e-02 -4.08892371e-02\n",
      " -2.77018230e-02  1.65725909e-02 -2.35136338e-02  7.11306483e-02\n",
      "  2.85187066e-02 -4.73667197e-02  6.56627640e-02  1.58632509e-02\n",
      " -1.74721852e-02 -1.08296692e-01  1.04522668e-02  2.15406772e-02\n",
      " -1.36327883e-02  7.21646473e-02  1.24118589e-02 -8.81290063e-03\n",
      " -4.04931121e-02 -2.29290649e-02  9.66579542e-02 -1.92464720e-02\n",
      "  8.48171208e-03  1.81378033e-02 -2.35784380e-03 -8.60465616e-02\n",
      "  1.10523086e-02  4.82028574e-02  2.42162887e-02 -1.83629282e-02\n",
      " -1.37932552e-02 -1.15381079e-02  5.28693013e-02  2.75349282e-02\n",
      " -5.59588298e-02  4.04097289e-02  4.72744554e-03  5.62607683e-02\n",
      " -1.14547364e-01  2.22225953e-02  2.39329208e-02 -5.62381744e-02\n",
      "  5.25932061e-03  4.28450666e-02  3.22989337e-02  1.74413119e-02\n",
      "  3.67935635e-02  5.46671711e-02 -2.73920540e-02  1.58294775e-02\n",
      " -7.46207498e-03 -9.78416502e-02  1.89734027e-02  3.38367000e-02\n",
      " -1.37299346e-02 -3.70767936e-02 -3.44206952e-02 -6.84660673e-03\n",
      " -5.20333163e-02 -4.35508341e-02  2.92806048e-02 -8.99166316e-02\n",
      "  7.17846900e-02  8.14445093e-02 -1.10706408e-02  2.30668224e-02\n",
      "  4.58742939e-02 -7.63879344e-03  1.67364869e-02 -2.22622808e-02\n",
      " -5.48385903e-02  5.39167598e-02  5.54740019e-02  3.06676337e-33\n",
      " -2.54851002e-02  7.94572383e-02 -3.00206617e-02  6.89665005e-02\n",
      " -2.14785002e-02  1.74774993e-02  1.05336696e-01  9.73835588e-02\n",
      " -5.05608171e-02 -1.17715565e-03 -1.56320240e-02 -5.39885135e-03\n",
      "  5.97619526e-02  6.90903068e-02 -2.18845215e-02  3.81259024e-02\n",
      " -3.17112319e-02 -2.24972721e-02 -2.54654866e-02  2.75421776e-02\n",
      " -2.04878021e-02  3.23141702e-02 -1.44407935e-02  2.39767749e-02\n",
      "  5.28097562e-02 -4.01994772e-02 -4.16772068e-02 -5.73335439e-02\n",
      " -3.13057419e-04 -2.26190891e-02 -4.69705090e-03 -2.40388494e-02\n",
      " -1.14374019e-01  3.63164768e-02  8.09511356e-03  4.31733811e-03\n",
      " -3.22666392e-02 -1.62740219e-02 -1.42019964e-03  4.06847743e-04\n",
      "  4.54766862e-02 -8.19252878e-02 -5.92253469e-02  4.88302857e-02\n",
      "  5.78767918e-02 -5.77591248e-02  1.08069018e-01  4.38640565e-02\n",
      " -2.44916379e-02 -1.74941104e-02  1.76402312e-02 -4.44161445e-02\n",
      " -6.04895395e-05  8.16516280e-02  4.09245081e-02 -9.33384523e-02\n",
      " -4.21141945e-02 -6.34236857e-02 -1.26200423e-01 -3.57658379e-02\n",
      "  1.09714933e-01  4.37634960e-02 -9.78429016e-05  9.31103602e-02\n",
      "  2.30722618e-03 -5.59660196e-02  8.88944231e-03  9.66772530e-03\n",
      " -2.46301945e-02 -2.02198941e-02  4.80431393e-02  2.27926206e-02\n",
      "  3.02140303e-02 -2.47365516e-02 -6.08056486e-02  2.64411904e-02\n",
      "  1.00175306e-01 -2.25017089e-02 -7.10202679e-02  8.47512409e-02\n",
      " -1.10952415e-01 -2.53663193e-02  3.44113127e-04 -1.17456112e-02\n",
      " -5.61832413e-02 -2.23123804e-02 -2.79165842e-02 -3.04809492e-02\n",
      "  1.56495348e-02 -2.14063926e-04 -8.50887746e-02  3.12450211e-02\n",
      " -2.09187437e-02 -4.75441255e-02 -1.16709489e-02 -1.71431456e-08\n",
      "  1.75800193e-02 -6.35109551e-04 -6.86445385e-02 -7.29865357e-02\n",
      "  3.71995755e-02 -9.51128360e-03  9.51039046e-03 -5.95560335e-02\n",
      "  3.83201125e-03 -2.91410498e-02  6.88247904e-02  1.10348053e-02\n",
      " -6.41652495e-02 -3.43092158e-02  4.33145426e-02  2.64571067e-02\n",
      "  1.11346416e-01  1.29132137e-01  3.60294357e-02 -5.39503321e-02\n",
      "  1.70412310e-03  8.03920850e-02 -1.59904696e-02 -6.33985037e-03\n",
      " -6.11840189e-02  9.24076736e-02  7.59299994e-02  7.55585209e-02\n",
      " -5.18300477e-03  8.89402553e-02 -5.44909239e-02 -6.53518271e-03\n",
      " -4.96765319e-03 -1.02075562e-01  5.71163036e-02  1.79628171e-02\n",
      "  4.08390090e-02 -3.71825434e-02  2.13049296e-02 -9.02461410e-02\n",
      "  3.72969210e-02  4.29216214e-03 -2.73307469e-02 -1.34846121e-02\n",
      "  5.19386269e-02 -9.45393890e-02 -3.54964808e-02 -3.36775207e-03\n",
      "  2.16541309e-02 -3.67602967e-02  2.36576926e-02  3.85332736e-03\n",
      " -2.95432229e-02 -4.51575257e-02  2.17272025e-02 -9.60655361e-02\n",
      "  2.00883928e-03 -1.10548928e-01 -1.73164725e-01 -2.52977796e-02\n",
      "  3.98463570e-02 -8.00007060e-02  9.89549309e-02  6.63998118e-03]\n"
     ]
    }
   ],
   "source": [
    "def query_to_embedding(query):\n",
    "    model = SentenceTransformer('all-MiniLM-L6-v2')\n",
    "    return model.encode([query])[0]\n",
    "\n",
    "query = \"What is the unemployment rate based on degree?\"\n",
    "query_embedding = query_to_embedding(query)\n",
    "print(query_embedding)\n"
   ]
  },
  {
   "cell_type": "code",
   "execution_count": 9,
   "id": "09227ff8",
   "metadata": {},
   "outputs": [
    {
     "name": "stdout",
     "output_type": "stream",
     "text": [
      "Relevant Chunks: ['It shows what \\npercent “of the pie” a particular category occupies \\nout of the whole. •If total GDP in 2015 is the entire pie, then \\nmanufacturing makes up 19% of that pie and finance makes up 18%. Notice that visually speaking, since 19% and 18% are so close to each other in value, their respective slices of the pie are similarly sized.\\uf075Pie charts can be misleading when the slices do not \\ncorrespond with the percent contribution to the whole pie.', '•2015 GDP for all industries was $31.397023; looking at the graph, \\nthe bar for all industries is just above $30. •One is still be able compare each variable with the other by \\ncomparing bars.•The graph below is called a line graph. It shows how a variable \\nevolves with respect to another variable. In the line graph below, we \\nshow how GDP has evolved by year.', '\\uf075A picture tells a thousand words so it is not a surprise that many people use charts and graphs when explaining data.Types of Visual \\nRepresentations of DataTable of Yearly U.S. GDP by \\nIndustry (in millions of dollars)\\nYear 2010 2011 2012 2013 2014 2015\\nAll Industries 26093515 27535971 28663246 29601191 30895407 31397023\\nManufacturing 4992521 5581942 5841608 5953299 6047477 5829554\\nFinance,\\nInsurance, Real \\nEstate, Rental, \\nLeasing4522451 4618678 4797313 5031881 5339678 5597018\\nArts, \\nEntertainment, \\nRecreation, \\nAccommodation,\\nand Food Service964032 1015238 1076249 1120496 1189646 1283813\\nOther 15614511 16320113 16948076 17495515 18318606 18686638Source: U.S. Bureau of Labor Statistics19%\\n18%\\n4%59%2015 U.S. GDP (in millions of dollars)\\nManufacturing\\nFinance, insurance, real\\nestate, rental, and\\nleasing\\nArts, entertainment,recreation,\\naccommodation, and\\nfood services\\nOther•The chart below is called a pie chart.']\n"
     ]
    }
   ],
   "source": [
    "import numpy as np\n",
    "from sklearn.metrics.pairwise import cosine_similarity\n",
    "\n",
    "def retrieve_relevant_chunks(query_embedding, chunk_embeddings, chunks, top_k=3):\n",
    "    similarities = cosine_similarity([query_embedding], chunk_embeddings)\n",
    "    indices = similarities[0].argsort()[-top_k:][::-1]  # Get top-k most similar chunks\n",
    "    return [chunks[i] for i in indices]\n",
    "\n",
    "relevant_chunks = retrieve_relevant_chunks(query_embedding, embeddings, chunks)\n",
    "print(\"Relevant Chunks:\", relevant_chunks)\n"
   ]
  },
  {
   "cell_type": "code",
   "execution_count": 24,
   "id": "f92a53c0",
   "metadata": {},
   "outputs": [
    {
     "name": "stdout",
     "output_type": "stream",
     "text": [
      "['degree type', 'unemployment rate']\n"
     ]
    }
   ],
   "source": [
    "def extract_comparison_fields(query):\n",
    "    # Assume the query contains keywords like 'compare' or specific entities like \"degree types\"\n",
    "    if \"compare\" in query.lower():\n",
    "        return [\"degree type\", \"unemployment rate\"]\n",
    "    return []\n",
    "\n",
    "query = \"Compare the unemployment rate by degree type\"\n",
    "fields = extract_comparison_fields(query)\n",
    "print(fields)"
   ]
  },
  {
   "cell_type": "code",
   "execution_count": 11,
   "id": "69ebf132",
   "metadata": {},
   "outputs": [
    {
     "name": "stdout",
     "output_type": "stream",
     "text": [
      "Comparison Result:\n",
      " - It shows what \n",
      "percent “of the pie” a particular category occupies \n",
      "out of the whole. •If total GDP in 2015 is the entire pie, then \n",
      "manufacturing makes up 19% of that pie and finance makes up 18%. Notice that visually speaking, since 19% and 18% are so close to each other in value, their respective slices of the pie are similarly sized.Pie charts can be misleading when the slices do not \n",
      "correspond with the percent contribution to the whole pie.\n",
      "- •2015 GDP for all industries was $31.397023; looking at the graph, \n",
      "the bar for all industries is just above $30. •One is still be able compare each variable with the other by \n",
      "comparing bars.•The graph below is called a line graph. It shows how a variable \n",
      "evolves with respect to another variable. In the line graph below, we \n",
      "show how GDP has evolved by year.\n",
      "- A picture tells a thousand words so it is not a surprise that many people use charts and graphs when explaining data.Types of Visual \n",
      "Representations of DataTable of Yearly U.S. GDP by \n",
      "Industry (in millions of dollars)\n",
      "Year 2010 2011 2012 2013 2014 2015\n",
      "All Industries 26093515 27535971 28663246 29601191 30895407 31397023\n",
      "Manufacturing 4992521 5581942 5841608 5953299 6047477 5829554\n",
      "Finance,\n",
      "Insurance, Real \n",
      "Estate, Rental, \n",
      "Leasing4522451 4618678 4797313 5031881 5339678 5597018\n",
      "Arts, \n",
      "Entertainment, \n",
      "Recreation, \n",
      "Accommodation,\n",
      "and Food Service964032 1015238 1076249 1120496 1189646 1283813\n",
      "Other 15614511 16320113 16948076 17495515 18318606 18686638Source: U.S. Bureau of Labor Statistics19%\n",
      "18%\n",
      "4%59%2015 U.S. GDP (in millions of dollars)\n",
      "Manufacturing\n",
      "Finance, insurance, real\n",
      "estate, rental, and\n",
      "leasing\n",
      "Arts, entertainment,recreation,\n",
      "accommodation, and\n",
      "food services\n",
      "Other•The chart below is called a pie chart.\n"
     ]
    }
   ],
   "source": [
    "def compare_data(relevant_chunks):\n",
    "    # Simple implementation: create a bullet-point list from the chunks\n",
    "    comparison_result = \"\\n\".join([f\"- {chunk}\" for chunk in relevant_chunks])\n",
    "    return comparison_result\n",
    "\n",
    "comparison_response = compare_data(relevant_chunks)\n",
    "print(\"Comparison Result:\\n\", comparison_response)\n"
   ]
  },
  {
   "cell_type": "code",
   "execution_count": 12,
   "id": "bf0e9332",
   "metadata": {},
   "outputs": [
    {
     "name": "stdout",
     "output_type": "stream",
     "text": [
      "Generated Response: Based on the data extracted from the documents:\n",
      "It shows what \n",
      "percent “of the pie” a particular category occupies \n",
      "out of the whole. •If total GDP in 2015 is the entire pie, then \n",
      "manufacturing makes up 19% of that pie and finance makes up 18%. Notice that visually speaking, since 19% and 18% are so close to each other in value, their respective slices of the pie are similarly sized.Pie charts can be misleading when the slices do not \n",
      "correspond with the percent contribution to the whole pie.\n",
      "•2015 GDP for all industries was $31.397023; looking at the graph, \n",
      "the bar for all industries is just above $30. •One is still be able compare each variable with the other by \n",
      "comparing bars.•The graph below is called a line graph. It shows how a variable \n",
      "evolves with respect to another variable. In the line graph below, we \n",
      "show how GDP has evolved by year.\n",
      "A picture tells a thousand words so it is not a surprise that many people use charts and graphs when explaining data.Types of Visual \n",
      "Representations of DataTable of Yearly U.S. GDP by \n",
      "Industry (in millions of dollars)\n",
      "Year 2010 2011 2012 2013 2014 2015\n",
      "All Industries 26093515 27535971 28663246 29601191 30895407 31397023\n",
      "Manufacturing 4992521 5581942 5841608 5953299 6047477 5829554\n",
      "Finance,\n",
      "Insurance, Real \n",
      "Estate, Rental, \n",
      "Leasing4522451 4618678 4797313 5031881 5339678 5597018\n",
      "Arts, \n",
      "Entertainment, \n",
      "Recreation, \n",
      "Accommodation,\n",
      "and Food Service964032 1015238 1076249 1120496 1189646 1283813\n",
      "Other 15614511 16320113 16948076 17495515 18318606 18686638Source: U.S. Bureau of Labor Statistics19%\n",
      "18%\n",
      "4%59%2015 U.S. GDP (in millions of dollars)\n",
      "Manufacturing\n",
      "Finance, insurance, real\n",
      "estate, rental, and\n",
      "leasing\n",
      "Arts, entertainment,recreation,\n",
      "accommodation, and\n",
      "food services\n",
      "Other•The chart below is called a pie chart.\n"
     ]
    }
   ],
   "source": [
    "def generate_response(query, relevant_chunks):\n",
    "    # Simple response generation by returning the top relevant chunks\n",
    "    return f\"Based on the data extracted from the documents:\\n\" + \"\\n\".join(relevant_chunks)\n",
    "\n",
    "response = generate_response(query, relevant_chunks)\n",
    "print(\"Generated Response:\", response)\n"
   ]
  },
  {
   "cell_type": "code",
   "execution_count": 25,
   "id": "432174ed",
   "metadata": {},
   "outputs": [
    {
     "name": "stdout",
     "output_type": "stream",
     "text": [
      "Response: Based on the data extracted from the documents:\n",
      "•2015 GDP for all industries was $31.397023; looking at the graph, \n",
      "the bar for all industries is just above $30. •One is still be able compare each variable with the other by \n",
      "comparing bars.•The graph below is called a line graph. It shows how a variable \n",
      "evolves with respect to another variable. In the line graph below, we \n",
      "show how GDP has evolved by year.\n",
      "Example from History\n",
      "In what years were the affiliations for \n",
      "Republicans and Independents the same?During what time period did the party affiliations have the most change?Example from Education\n",
      "What percent of the total \n",
      "class received grades of 72 or 77? Which grade showed the \n",
      "largest difference between males and females?Example from Psychology\n",
      "What do you notice \n",
      "is different in this graph than the others reviewed so far?\n",
      "It shows what \n",
      "percent “of the pie” a particular category occupies \n",
      "out of the whole. •If total GDP in 2015 is the entire pie, then \n",
      "manufacturing makes up 19% of that pie and finance makes up 18%. Notice that visually speaking, since 19% and 18% are so close to each other in value, their respective slices of the pie are similarly sized.Pie charts can be misleading when the slices do not \n",
      "correspond with the percent contribution to the whole pie.\n"
     ]
    }
   ],
   "source": [
    "def rag_pipeline(pdf_path, query):\n",
    "    # Step 1: Extract text from PDF\n",
    "    text = extract_text_from_pdf(pdf_path)\n",
    "\n",
    "    # Step 2: Chunk the text\n",
    "    chunks = chunk_text(text)\n",
    "\n",
    "    # Step 3: Embed the chunks\n",
    "    embeddings = embed_chunks(chunks)\n",
    "\n",
    "    # Step 4: Convert query to embedding\n",
    "    query_embedding = query_to_embedding(query)\n",
    "\n",
    "    # Step 5: Retrieve relevant chunks using cosine similarity\n",
    "    relevant_chunks = retrieve_relevant_chunks(query_embedding, embeddings, chunks)\n",
    "\n",
    "    # Step 6: Generate the response based on the retrieved chunks\n",
    "    response = generate_response(query, relevant_chunks)\n",
    "\n",
    "    return response\n",
    "\n",
    "# Example usage\n",
    "pdf_path = \"exampledata.pdf\"\n",
    "query = \"Compare the unemployment rate by degree type?\"\n",
    "response = rag_pipeline(pdf_path, query)\n",
    "print(\"Response:\", response)\n"
   ]
  },
  {
   "cell_type": "code",
   "execution_count": null,
   "id": "b5a7adb9",
   "metadata": {},
   "outputs": [],
   "source": []
  }
 ],
 "metadata": {
  "kernelspec": {
   "display_name": "Python 3 (ipykernel)",
   "language": "python",
   "name": "python3"
  },
  "language_info": {
   "codemirror_mode": {
    "name": "ipython",
    "version": 3
   },
   "file_extension": ".py",
   "mimetype": "text/x-python",
   "name": "python",
   "nbconvert_exporter": "python",
   "pygments_lexer": "ipython3",
   "version": "3.9.12"
  }
 },
 "nbformat": 4,
 "nbformat_minor": 5
}
